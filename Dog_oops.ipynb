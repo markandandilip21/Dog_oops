{
 "cells": [
  {
   "cell_type": "code",
   "execution_count": 3,
   "id": "2e9b12bf",
   "metadata": {},
   "outputs": [
    {
     "name": "stdout",
     "output_type": "stream",
     "text": [
      "Juju is 3 years old.\n",
      "Juju has a white and brown coat.\n",
      "Juju is a Jack Russell Terrier and loves to play fetch.\n",
      "Sunny is 5 years old.\n",
      "Sunny has a brindle coat.\n",
      "Sunny is a Bulldog and has a strong and muscular build.\n"
     ]
    }
   ],
   "source": [
    "class Dog:\n",
    "    def __init__(self, name, age, coat_color):\n",
    "        self.name = name\n",
    "        self.age = age\n",
    "        self.coat_color = coat_color\n",
    "\n",
    "    def description(self):\n",
    "        print(f\"{self.name} is {self.age} years old.\")\n",
    "\n",
    "    def get_info(self):\n",
    "        print(f\"{self.name} has a {self.coat_color} coat.\")\n",
    "\n",
    "class JackRussellTerrier(Dog):\n",
    "    def __init__(self, name, age, coat_color):\n",
    "        super().__init__(name, age, coat_color)\n",
    "\n",
    "    def unique_method(self):\n",
    "        print(f\"{self.name} is a Jack Russell Terrier and loves to play fetch.\")\n",
    "\n",
    "class Bulldog(Dog):\n",
    "    def __init__(self, name, age, coat_color):\n",
    "        super().__init__(name, age, coat_color)\n",
    "\n",
    "    def unique_method(self):\n",
    "        print(f\"{self.name} is a Bulldog and has a strong and muscular build.\")\n",
    "dog1 = JackRussellTerrier(\"Juju\", 3, \"white and brown\")\n",
    "dog2 = Bulldog(\"Sunny\", 5, \"brindle\")\n",
    "\n",
    "dog1.description()\n",
    "dog1.get_info()\n",
    "dog1.unique_method()\n",
    "\n",
    "dog2.description()\n",
    "dog2.get_info()\n",
    "dog2.unique_method()\n"
   ]
  },
  {
   "cell_type": "code",
   "execution_count": null,
   "id": "ac4752c5",
   "metadata": {},
   "outputs": [],
   "source": []
  }
 ],
 "metadata": {
  "kernelspec": {
   "display_name": "Python 3 (ipykernel)",
   "language": "python",
   "name": "python3"
  },
  "language_info": {
   "codemirror_mode": {
    "name": "ipython",
    "version": 3
   },
   "file_extension": ".py",
   "mimetype": "text/x-python",
   "name": "python",
   "nbconvert_exporter": "python",
   "pygments_lexer": "ipython3",
   "version": "3.10.9"
  }
 },
 "nbformat": 4,
 "nbformat_minor": 5
}
